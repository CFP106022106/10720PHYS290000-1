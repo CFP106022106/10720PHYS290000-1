{
 "cells": [
  {
   "cell_type": "code",
   "execution_count": 17,
   "metadata": {},
   "outputs": [
    {
     "name": "stdout",
     "output_type": "stream",
     "text": [
      "(array([1.000e+00, 4.000e+00, 8.000e+00, 1.400e+01, 3.200e+01, 6.700e+01,\n",
      "       1.120e+02, 1.900e+02, 3.040e+02, 4.350e+02, 8.830e+02, 8.200e+02,\n",
      "       9.410e+02, 1.031e+03, 1.070e+03, 9.740e+02, 8.410e+02, 6.690e+02,\n",
      "       5.810e+02, 3.870e+02, 3.200e+02, 1.350e+02, 9.600e+01, 4.200e+01,\n",
      "       2.500e+01, 9.000e+00, 2.000e+00, 4.000e+00, 2.000e+00, 1.000e+00]), array([-32. , -22.7, -13.4,  -4.1,   5.2,  14.5,  23.8,  33.1,  42.4,\n",
      "        51.7,  61. ,  70.3,  79.6,  88.9,  98.2, 107.5, 116.8, 126.1,\n",
      "       135.4, 144.7, 154. , 163.3, 172.6, 181.9, 191.2, 200.5, 209.8,\n",
      "       219.1, 228.4, 237.7, 247. ]), <a list of 30 Patch objects>)\n",
      "[-27.35 -18.05  -8.75   0.55   9.85  19.15  28.45  37.75  47.05  56.35\n",
      "  65.65  74.95  84.25  93.55 102.85 112.15 121.45 130.75 140.05 149.35\n",
      " 158.65 167.95 177.25 186.55 195.85 205.15 214.45 223.75 233.05 242.35]\n",
      "[1058.97397194   35.2658967 ] [[536.90502723 -11.92020192]\n",
      " [-11.92020192   0.79393538]]\n"
     ]
    },
    {
     "data": {
      "image/png": "[encoded data removed]",
      "text/plain": [
       "<Figure size 432x288 with 1 Axes>"
      ]
     },
     "metadata": {
      "needs_background": "light"
     },
     "output_type": "display_data"
    }
   ],
   "source": [
    "import numpy as np\n",
    "import matplotlib.pyplot as plt\n",
    "N = 10000\n",
    "M = 100\n",
    "dM = 3\n",
    "students1 = np.full(N, M)\n",
    "students2 = np.full(N, M)\n",
    "    \n",
    "def play_a(array, dm):\n",
    "    a = np.random.randint(0, len(array))\n",
    "    b = np.random.randint(0, len(array))\n",
    "    \n",
    "    a_hand = np.random.randint(0, 3)\n",
    "    b_hand = np.random.randint(0, 3)\n",
    "    \n",
    "    if a_hand == 0 and b_hand == 2:\n",
    "        array[a] += dm\n",
    "        array[b] -= dm\n",
    "        \n",
    "    elif b_hand == 0 and a_hand == 2:\n",
    "        array[a] -= dm\n",
    "        array[b] += dm\n",
    "    \n",
    "    elif a_hand > b_hand:  \n",
    "        array[a] += dm\n",
    "        array[b] -= dm\n",
    "        \n",
    "    elif a_hand < b_hand:\n",
    "        array[a] -= dm\n",
    "        array[b] += dm\n",
    "    else :\n",
    "        pass\n",
    "    \n",
    "    return array\n",
    "\n",
    "def play_b(array, dm):\n",
    "    a = np.random.randint(0, len(array))\n",
    "    b = np.random.randint(0, len(array))\n",
    "    if array[a] <= 0 or array[b] <= 0:\n",
    "        pass\n",
    "    else :\n",
    "        a_hand = np.random.randint(0, 3)\n",
    "        b_hand = np.random.randint(0, 3)\n",
    "    \n",
    "        if a_hand == 0 and b_hand == 2:\n",
    "            array[a] += dm\n",
    "            array[b] -= dm\n",
    "        \n",
    "        elif b_hand == 0 and a_hand == 2:\n",
    "            array[a] -= dm\n",
    "            array[b] += dm\n",
    "    \n",
    "        elif a_hand > b_hand:  \n",
    "            array[a] += dm\n",
    "            array[b] -= dm\n",
    "        \n",
    "        elif a_hand < b_hand:\n",
    "            array[a] -= dm\n",
    "            array[b] += dm\n",
    "        else :\n",
    "            pass\n",
    "    \n",
    "    \n",
    "    return array\n",
    "\n",
    "for _ in range(1000000):\n",
    "    students1 = play_a(students1, dM)\n",
    "    students2 = play_b(students2, dM)\n",
    "\n",
    "a=plt.hist(students1, bins = 30, label = \"Liability\")\n",
    "\n",
    "print(a)\n",
    "dx=(a[1][1]-a[1][0])\n",
    "bin_center=np.array(a[1][0:-1])+dx/2\n",
    "print(bin_center)\n",
    "\n",
    "from scipy import optimize\n",
    "def test_func(x,amp,s):\n",
    "    return amp*np.exp(-(x-100)**2/(2*s**2))\n",
    "\n",
    "params,params_covariance=optimize.curve_fit(test_func,bin_center,a[0])\n",
    "print(params,params_covariance)\n",
    "plt.plot(bin_center,test_func(bin_center,params[0],params[1]),'r*',label='Fitted Function')\n",
    "plt.show()"
   ]
  },
  {
   "cell_type": "code",
   "execution_count": null,
   "metadata": {},
   "outputs": [],
   "source": []
  }
 ],
 "metadata": {
  "kernelspec": {
   "display_name": "Python 3",
   "language": "python",
   "name": "python3"
  },
  "language_info": {
   "codemirror_mode": {
    "name": "ipython",
    "version": 3
   },
   "file_extension": ".py",
   "mimetype": "text/x-python",
   "name": "python",
   "nbconvert_exporter": "python",
   "pygments_lexer": "ipython3",
   "version": "3.7.1"
  }
 },
 "nbformat": 4,
 "nbformat_minor": 2
}
